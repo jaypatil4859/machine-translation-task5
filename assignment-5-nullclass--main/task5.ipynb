{
 "cells": [
  {
   "cell_type": "code",
   "execution_count": 1,
   "metadata": {},
   "outputs": [],
   "source": [
    "import tensorflow as tf\n",
    "from tensorflow.keras.models import load_model\n",
    "from tensorflow.keras.preprocessing.text import Tokenizer\n",
    "from tensorflow.keras.preprocessing.sequence import pad_sequences\n",
    "import json"
   ]
  },
  {
   "cell_type": "code",
   "execution_count": 2,
   "metadata": {},
   "outputs": [],
   "source": [
    "\n",
    "\n",
    "def load_translations(english_file, french_file, hindi_file):\n",
    "    with open(english_file, 'r', encoding='utf-8') as file:\n",
    "        english_sentences = file.read().strip().split('\\n')\n",
    "    with open(french_file, 'r', encoding='utf-8') as file:\n",
    "        french_sentences = file.read().strip().split('\\n')\n",
    "    with open(hindi_file, 'r', encoding='utf-8') as file:\n",
    "        hindi_sentences = file.read().strip().split('\\n')\n",
    "    return dict(zip(english_sentences, french_sentences)), dict(zip(english_sentences, hindi_sentences))\n",
    "\n",
    "def translate_to_french_and_hindi(sentence, english_to_french, english_to_hindi):\n",
    "    if len(sentence) != 10:\n",
    "        print(\"Error: Word length must be exactly 10 letters.\")\n",
    "        return\n",
    "    french_translation = english_to_french.get(sentence)\n",
    "    hindi_translation = english_to_hindi.get(sentence)\n",
    "    print(f\"Looking for translations of '{sentence}'...\")\n",
    "    print(f\"Found French translation: {french_translation}\")\n",
    "    print(f\"Found Hindi translation: {hindi_translation}\\n\")\n",
    "    if french_translation and hindi_translation:\n",
    "        print(f\"English Sentence: {sentence}\")\n",
    "        print(f\"French Translation --> {french_translation}\")\n",
    "        print(f\"Hindi Translation  --> {hindi_translation}\")\n",
    "    else:\n",
    "        print(\"Translation not found.\")"
   ]
  },
  {
   "cell_type": "code",
   "execution_count": 3,
   "metadata": {},
   "outputs": [],
   "source": [
    "\n",
    "\n",
    "def create_tokenizer_and_vocab(sentences, file_path_prefix):\n",
    "    tokenizer = Tokenizer()\n",
    "    tokenizer.fit_on_texts(sentences)\n",
    "    with open(f\"{file_path_prefix}_tokenizer.json\", 'w', encoding='utf-8') as f:\n",
    "        f.write(json.dumps(tokenizer.to_json(), ensure_ascii=False))\n",
    "    vocab = tokenizer.word_index\n",
    "    with open(f\"{file_path_prefix}_vocab.json\", 'w', encoding='utf-8') as f:\n",
    "        f.write(json.dumps(vocab, ensure_ascii=False))\n",
    "    return tokenizer, vocab\n",
    "\n",
    "def create_tensorflow_model(english_sentences, french_sentences, hindi_sentences):\n",
    "    english_tokenizer, english_vocab = create_tokenizer_and_vocab(english_sentences, \"english\")\n",
    "    french_tokenizer, french_vocab = create_tokenizer_and_vocab(french_sentences, \"french\")\n",
    "    hindi_tokenizer, hindi_vocab = create_tokenizer_and_vocab(hindi_sentences, \"hindi\")\n",
    "\n",
    "    english_sequences = english_tokenizer.texts_to_sequences(english_sentences)\n",
    "    french_sequences = french_tokenizer.texts_to_sequences(french_sentences)\n",
    "    hindi_sequences = hindi_tokenizer.texts_to_sequences(hindi_sentences)\n",
    "\n",
    "    max_sequence_length = max(max(len(seq) for seq in english_sequences),\n",
    "                              max(len(seq) for seq in french_sequences),\n",
    "                              max(len(seq) for seq in hindi_sequences))\n",
    "\n",
    "    english_sequences = pad_sequences(english_sequences, maxlen=max_sequence_length, padding='post')\n",
    "    french_sequences = pad_sequences(french_sequences, maxlen=max_sequence_length, padding='post')\n",
    "    hindi_sequences = pad_sequences(hindi_sequences, maxlen=max_sequence_length, padding='post')\n",
    "\n",
    "    model = tf.keras.Sequential([\n",
    "        tf.keras.layers.Embedding(input_dim=len(english_vocab) + 1, output_dim=128, input_length=max_sequence_length),\n",
    "        tf.keras.layers.Bidirectional(tf.keras.layers.LSTM(64, return_sequences=True)),\n",
    "        tf.keras.layers.Bidirectional(tf.keras.layers.LSTM(64)),\n",
    "        tf.keras.layers.Dense(64, activation='relu'),\n",
    "        tf.keras.layers.Dense(len(french_vocab) + 1, activation='softmax')  # For French translation\n",
    "    ])\n",
    "\n",
    "    model.compile(optimizer='adam', loss='sparse_categorical_crossentropy', metrics=['accuracy'])\n",
    "    model.summary()\n",
    "\n",
    "    return model, english_sequences, french_sequences, hindi_sequences\n",
    "\n",
    "\n",
    "\n"
   ]
  },
  {
   "cell_type": "code",
   "execution_count": 4,
   "metadata": {},
   "outputs": [],
   "source": [
    "# Save the model\n",
    "def save_model(model, model_file):\n",
    "    model.save(model_file)\n",
    "    print(f\"Model saved to {model_file}\")\n",
    "\n",
    "# Load the model\n",
    "def load_model_from_file(model_file):\n",
    "    model = load_model(model_file)\n",
    "    print(f\"Model loaded from {model_file}\")\n",
    "    return model\n"
   ]
  },
  {
   "cell_type": "code",
   "execution_count": 5,
   "metadata": {},
   "outputs": [
    {
     "name": "stdout",
     "output_type": "stream",
     "text": [
      "Model: \"sequential\"\n",
      "_________________________________________________________________\n",
      " Layer (type)                Output Shape              Param #   \n",
      "=================================================================\n",
      " embedding (Embedding)       (None, 10, 128)           2675840   \n",
      "                                                                 \n",
      " bidirectional (Bidirectiona  (None, 10, 128)          98816     \n",
      " l)                                                              \n",
      "                                                                 \n",
      " bidirectional_1 (Bidirectio  (None, 128)              98816     \n",
      " nal)                                                            \n",
      "                                                                 \n",
      " dense (Dense)               (None, 64)                8256      \n",
      "                                                                 \n",
      " dense_1 (Dense)             (None, 16924)             1100060   \n",
      "                                                                 \n",
      "=================================================================\n",
      "Total params: 3,981,788\n",
      "Trainable params: 3,981,788\n",
      "Non-trainable params: 0\n",
      "_________________________________________________________________\n"
     ]
    }
   ],
   "source": [
    "# Usage example\n",
    "english_file = \"data5/english.txt\"\n",
    "french_file = \"data5/french.txt\"\n",
    "hindi_file = \"data5/hindi.txt\"\n",
    "english_to_french, english_to_hindi = load_translations(english_file, french_file, hindi_file)\n",
    "\n",
    "english_sentences = list(english_to_french.keys())\n",
    "french_sentences = list(english_to_french.values())\n",
    "hindi_sentences = list(english_to_hindi.values())\n",
    "\n",
    "model, english_sequences, french_sequences, hindi_sequences = create_tensorflow_model(english_sentences, french_sentences, hindi_sentences)\n",
    "\n"
   ]
  },
  {
   "cell_type": "code",
   "execution_count": 6,
   "metadata": {},
   "outputs": [
    {
     "name": "stdout",
     "output_type": "stream",
     "text": [
      "Model saved to translation_model.h5\n",
      "Model loaded from translation_model.h5\n",
      "Looking for translations of 'Playground'...\n",
      "Found French translation: Terrain de jeu\n",
      "Found Hindi translation: खेल का मैदान\n",
      "\n",
      "English Sentence: Playground\n",
      "French Translation --> Terrain de jeu\n",
      "Hindi Translation  --> खेल का मैदान\n"
     ]
    }
   ],
   "source": [
    "model_file = \"translation_model.h5\"\n",
    "save_model(model, model_file)\n",
    "\n",
    "# Load the model\n",
    "loaded_model = load_model_from_file(model_file)\n",
    "\n",
    "# %% Example translation\n",
    "sentence = \"Playground\"\n",
    "translate_to_french_and_hindi(sentence, english_to_french, english_to_hindi)"
   ]
  }
 ],
 "metadata": {
  "kernelspec": {
   "display_name": "nullclass",
   "language": "python",
   "name": "python3"
  },
  "language_info": {
   "codemirror_mode": {
    "name": "ipython",
    "version": 3
   },
   "file_extension": ".py",
   "mimetype": "text/x-python",
   "name": "python",
   "nbconvert_exporter": "python",
   "pygments_lexer": "ipython3",
   "version": "3.9.20"
  }
 },
 "nbformat": 4,
 "nbformat_minor": 2
}
